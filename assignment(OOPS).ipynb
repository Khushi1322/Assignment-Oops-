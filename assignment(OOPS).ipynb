{
 "cells": [
  {
   "cell_type": "markdown",
   "id": "d91fd066-7b2c-4d79-bfd8-3e570caa4a46",
   "metadata": {},
   "source": [
    "Q1: Explain class and object with respect to object_oriented programming.Give a suitable example."
   ]
  },
  {
   "cell_type": "markdown",
   "id": "7ed32aeb-6184-405d-9684-2c2a8f25e597",
   "metadata": {},
   "source": [
    "ANS: a class is considered as a blueprint of objects.\n",
    "we use the 'class' keyword to creat a class in Python. for example\n",
    "class Bike:\n",
    "    name=\" \"\n",
    "    gear=0\n",
    "    \n",
    "Bike-> the name of the class\n",
    "name/gear-> variables inside the class with default values \" \" and 0 respectively.\n",
    "\n",
    "An object is called an instance of a class.\n",
    "for example, suppose Bike is a class then we can creat objects like Bike1,Bike2 etc from the class\n",
    "objectname =Bike"
   ]
  },
  {
   "cell_type": "markdown",
   "id": "71193cac-2976-4262-aea3-88950978b918",
   "metadata": {},
   "source": [
    "Q2: name the four pillars of Oops.\n",
    "Ans:Abstraction,Encapsulation,Inheritence,Polymorphism."
   ]
  },
  {
   "cell_type": "markdown",
   "id": "aa3b4ba0-c2a5-483f-8412-47d6f4a80887",
   "metadata": {},
   "source": [
    "Q3:Explain why the __init__() function is used?Give a suitable example."
   ]
  },
  {
   "cell_type": "markdown",
   "id": "097c8f28-f695-4774-9218-f7d627b9f9e8",
   "metadata": {},
   "source": [
    "the __init__()function is called every time an object is created from a class. __init__ method\n",
    "lets the class initialize the object's attributes and serves no other purpose.it is only used within classes."
   ]
  },
  {
   "cell_type": "code",
   "execution_count": 2,
   "id": "af624956-76fa-49a8-b39a-bfbe1c5e4099",
   "metadata": {},
   "outputs": [],
   "source": [
    "class Dog:\n",
    "    def __init__(self,dogBreed,dogEyecolor):\n",
    "        self.breed=dogBreed\n",
    "        self.eyecolor=dogEyecolor"
   ]
  },
  {
   "cell_type": "markdown",
   "id": "d5be59e3-1e4c-4e9f-901a-73c1849d4d41",
   "metadata": {},
   "source": [
    "__init__ method initializes two attributes:breed and eyecolor"
   ]
  },
  {
   "cell_type": "markdown",
   "id": "03b55ca9-e77f-4279-9586-2ffbda0b1656",
   "metadata": {},
   "source": [
    "Q4: why self is used in Oops?\n",
    "ans:self represents the instence of the class.By using the 'self' we can access the attributes and method of the class in python. it bilnds the attributed with the given arguments."
   ]
  },
  {
   "cell_type": "code",
   "execution_count": null,
   "id": "eedc501c-5e02-4e6b-b099-f2d80dd6c8ae",
   "metadata": {},
   "outputs": [],
   "source": [
    "Q5: what is an inheritence?\n",
    "ans:"
   ]
  }
 ],
 "metadata": {
  "kernelspec": {
   "display_name": "Python 3 (ipykernel)",
   "language": "python",
   "name": "python3"
  },
  "language_info": {
   "codemirror_mode": {
    "name": "ipython",
    "version": 3
   },
   "file_extension": ".py",
   "mimetype": "text/x-python",
   "name": "python",
   "nbconvert_exporter": "python",
   "pygments_lexer": "ipython3",
   "version": "3.10.8"
  }
 },
 "nbformat": 4,
 "nbformat_minor": 5
}
